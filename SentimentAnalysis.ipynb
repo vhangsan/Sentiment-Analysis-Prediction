{
 "cells": [
  {
   "cell_type": "markdown",
   "metadata": {},
   "source": [
    "# Lab 8: Define and Solve an ML Problem of Your Choosing"
   ]
  },
  {
   "cell_type": "code",
   "execution_count": 1,
   "metadata": {},
   "outputs": [],
   "source": [
    "import pandas as pd\n",
    "import numpy as np\n",
    "import os \n",
    "import matplotlib.pyplot as plt\n",
    "import seaborn as sns"
   ]
  },
  {
   "cell_type": "markdown",
   "metadata": {},
   "source": [
    "In this lab assignment, you will follow the machine learning life cycle and implement a model to solve a machine learning problem of your choosing. You will select a data set and choose a predictive problem that the data set supports.  You will then inspect the data with your problem in mind and begin to formulate a  project plan. You will then implement the machine learning project plan. \n",
    "\n",
    "You will complete the following tasks:\n",
    "\n",
    "1. Build Your DataFrame\n",
    "2. Define Your ML Problem\n",
    "3. Perform exploratory data analysis to understand your data.\n",
    "4. Define Your Project Plan\n",
    "5. Implement Your Project Plan:\n",
    "    * Prepare your data for your model.\n",
    "    * Fit your model to the training data and evaluate your model.\n",
    "    * Improve your model's performance."
   ]
  },
  {
   "cell_type": "markdown",
   "metadata": {},
   "source": [
    "## Part 1: Build Your DataFrame\n",
    "\n",
    "You will have the option to choose one of four data sets that you have worked with in this program:\n",
    "\n",
    "* The \"census\" data set that contains Census information from 1994: `censusData.csv`\n",
    "* Airbnb NYC \"listings\" data set: `airbnbListingsData.csv`\n",
    "* World Happiness Report (WHR) data set: `WHR2018Chapter2OnlineData.csv`\n",
    "* Book Review data set: `bookReviewsData.csv`\n",
    "\n",
    "Note that these are variations of the data sets that you have worked with in this program. For example, some do not include some of the preprocessing necessary for specific models. \n",
    "\n",
    "#### Load a Data Set and Save it as a Pandas DataFrame\n",
    "\n",
    "The code cell below contains filenames (path + filename) for each of the four data sets available to you.\n",
    "\n",
    "<b>Task:</b> In the code cell below, use the same method you have been using to load the data using `pd.read_csv()` and save it to DataFrame `df`. \n",
    "\n",
    "You can load each file as a new DataFrame to inspect the data before choosing your data set."
   ]
  },
  {
   "cell_type": "code",
   "execution_count": 2,
   "metadata": {},
   "outputs": [
    {
     "data": {
      "text/html": [
       "<div>\n",
       "<style scoped>\n",
       "    .dataframe tbody tr th:only-of-type {\n",
       "        vertical-align: middle;\n",
       "    }\n",
       "\n",
       "    .dataframe tbody tr th {\n",
       "        vertical-align: top;\n",
       "    }\n",
       "\n",
       "    .dataframe thead th {\n",
       "        text-align: right;\n",
       "    }\n",
       "</style>\n",
       "<table border=\"1\" class=\"dataframe\">\n",
       "  <thead>\n",
       "    <tr style=\"text-align: right;\">\n",
       "      <th></th>\n",
       "      <th>Review</th>\n",
       "      <th>Positive Review</th>\n",
       "    </tr>\n",
       "  </thead>\n",
       "  <tbody>\n",
       "    <tr>\n",
       "      <th>0</th>\n",
       "      <td>This was perhaps the best of Johannes Steinhof...</td>\n",
       "      <td>True</td>\n",
       "    </tr>\n",
       "    <tr>\n",
       "      <th>1</th>\n",
       "      <td>This very fascinating book is a story written ...</td>\n",
       "      <td>True</td>\n",
       "    </tr>\n",
       "    <tr>\n",
       "      <th>2</th>\n",
       "      <td>The four tales in this collection are beautifu...</td>\n",
       "      <td>True</td>\n",
       "    </tr>\n",
       "    <tr>\n",
       "      <th>3</th>\n",
       "      <td>The book contained more profanity than I expec...</td>\n",
       "      <td>False</td>\n",
       "    </tr>\n",
       "    <tr>\n",
       "      <th>4</th>\n",
       "      <td>We have now entered a second time of deep conc...</td>\n",
       "      <td>True</td>\n",
       "    </tr>\n",
       "  </tbody>\n",
       "</table>\n",
       "</div>"
      ],
      "text/plain": [
       "                                              Review  Positive Review\n",
       "0  This was perhaps the best of Johannes Steinhof...             True\n",
       "1  This very fascinating book is a story written ...             True\n",
       "2  The four tales in this collection are beautifu...             True\n",
       "3  The book contained more profanity than I expec...            False\n",
       "4  We have now entered a second time of deep conc...             True"
      ]
     },
     "execution_count": 2,
     "metadata": {},
     "output_type": "execute_result"
    }
   ],
   "source": [
    "# File names of the four data sets\n",
    "adultDataSet_filename = os.path.join(os.getcwd(), \"data\", \"censusData.csv\")\n",
    "airbnbDataSet_filename = os.path.join(os.getcwd(), \"data\", \"airbnbListingsData.csv\")\n",
    "WHRDataSet_filename = os.path.join(os.getcwd(), \"data\", \"WHR2018Chapter2OnlineData.csv\")\n",
    "bookReviewDataSet_filename = os.path.join(os.getcwd(), \"data\", \"bookReviewsData.csv\")\n",
    "\n",
    "\n",
    "df = pd.read_csv(bookReviewDataSet_filename, header=0)\n",
    "\n",
    "# inspect data and display the first few rows\n",
    "df.head()"
   ]
  },
  {
   "cell_type": "markdown",
   "metadata": {},
   "source": [
    "## Part 2: Define Your ML Problem\n",
    "\n",
    "Next you will formulate your ML Problem. In the markdown cell below, answer the following questions:\n",
    "\n",
    "1. List the data set you have chosen.\n",
    "2. What will you be predicting? What is the label?\n",
    "3. Is this a supervised or unsupervised learning problem? Is this a clustering, classification or regression problem? Is it a binary classificaiton or multi-class classifiction problem?\n",
    "4. What are your features? (note: this list may change after your explore your data)\n",
    "5. Explain why this is an important problem. In other words, how would a company create value with a model that predicts this label?"
   ]
  },
  {
   "cell_type": "markdown",
   "metadata": {},
   "source": [
    "1. The data set that I have chosen is the Book Review data set.\n",
    "2. I will be performing sentiment analysis, predicting whether the book review is positive or negative. The label is the 'positive review' column, which contains boolean values.\n",
    "3. This is a supervised learning problem. It is a binary classification problem because we are predicting either a positive or negative review.\n",
    "4. The main feature for my problem will be the 'review' column, which contains the text of the book reviews and the text will predict if the review is positive or not.\n",
    "5. This is an important problem because this can help companies understand how readers feel about their books based on their feedback through the reviews. This can also build a book recommendation system that highlights positive reviews."
   ]
  },
  {
   "cell_type": "markdown",
   "metadata": {},
   "source": [
    "## Part 3: Understand Your Data\n",
    "\n",
    "The next step is to perform exploratory data analysis. Inspect and analyze your data set with your machine learning problem in mind. Consider the following as you inspect your data:\n",
    "\n",
    "1. What data preparation techniques would you like to use? These data preparation techniques may include:\n",
    "\n",
    "    * addressing missingness, such as replacing missing values with means\n",
    "    * finding and replacing outliers\n",
    "    * renaming features and labels\n",
    "    * finding and replacing outliers\n",
    "    * performing feature engineering techniques such as one-hot encoding on categorical features\n",
    "    * selecting appropriate features and removing irrelevant features\n",
    "    * performing specific data cleaning and preprocessing techniques for an NLP problem\n",
    "    * addressing class imbalance in your data sample to promote fair AI\n",
    "    \n",
    "\n",
    "2. What machine learning model (or models) you would like to use that is suitable for your predictive problem and data?\n",
    "    * Are there other data preparation techniques that you will need to apply to build a balanced modeling data set for your problem and model? For example, will you need to scale your data?\n",
    " \n",
    " \n",
    "3. How will you evaluate and improve the model's performance?\n",
    "    * Are there specific evaluation metrics and methods that are appropriate for your model?\n",
    "    \n",
    "\n",
    "Think of the different techniques you have used to inspect and analyze your data in this course. These include using Pandas to apply data filters, using the Pandas `describe()` method to get insight into key statistics for each column, using the Pandas `dtypes` property to inspect the data type of each column, and using Matplotlib and Seaborn to detect outliers and visualize relationships between features and labels. If you are working on a classification problem, use techniques you have learned to determine if there is class imbalance.\n",
    "\n",
    "<b>Task</b>: Use the techniques you have learned in this course to inspect and analyze your data. You can import additional packages that you have used in this course that you will need to perform this task.\n",
    "\n",
    "<b>Note</b>: You can add code cells if needed by going to the <b>Insert</b> menu and clicking on <b>Insert Cell Below</b> in the drop-drown menu."
   ]
  },
  {
   "cell_type": "markdown",
   "metadata": {},
   "source": [
    "When printing out the first few rows, I see that col['Review'] has a string value and col['Positive Review'] is a boolean. We can confirm by checking the data types."
   ]
  },
  {
   "cell_type": "code",
   "execution_count": 3,
   "metadata": {},
   "outputs": [
    {
     "data": {
      "text/plain": [
       "Review             object\n",
       "Positive Review      bool\n",
       "dtype: object"
      ]
     },
     "execution_count": 3,
     "metadata": {},
     "output_type": "execute_result"
    }
   ],
   "source": [
    "df.dtypes"
   ]
  },
  {
   "cell_type": "code",
   "execution_count": 4,
   "metadata": {
    "scrolled": true
   },
   "outputs": [
    {
     "data": {
      "text/plain": [
       "Review             0\n",
       "Positive Review    0\n",
       "dtype: int64"
      ]
     },
     "execution_count": 4,
     "metadata": {},
     "output_type": "execute_result"
    }
   ],
   "source": [
    "# check for missing values\n",
    "df.isnull().sum()"
   ]
  },
  {
   "cell_type": "markdown",
   "metadata": {},
   "source": [
    "There are no missing values, so there is no need to drop any columns."
   ]
  },
  {
   "cell_type": "markdown",
   "metadata": {},
   "source": [
    "### Preprocess the text\n",
    "We want to covert the text to lowercase and remove any punctuation to make the text easier to interpret."
   ]
  },
  {
   "cell_type": "code",
   "execution_count": 5,
   "metadata": {},
   "outputs": [],
   "source": [
    "import string\n",
    "def preprocess_text(text):\n",
    "    text = text.lower() \n",
    "    text = text.translate(str.maketrans('', '', string.punctuation))\n",
    "    return text\n",
    "df['preprocessed_review'] = df['Review'].apply(preprocess_text)"
   ]
  },
  {
   "cell_type": "code",
   "execution_count": 6,
   "metadata": {},
   "outputs": [
    {
     "data": {
      "text/html": [
       "<div>\n",
       "<style scoped>\n",
       "    .dataframe tbody tr th:only-of-type {\n",
       "        vertical-align: middle;\n",
       "    }\n",
       "\n",
       "    .dataframe tbody tr th {\n",
       "        vertical-align: top;\n",
       "    }\n",
       "\n",
       "    .dataframe thead th {\n",
       "        text-align: right;\n",
       "    }\n",
       "</style>\n",
       "<table border=\"1\" class=\"dataframe\">\n",
       "  <thead>\n",
       "    <tr style=\"text-align: right;\">\n",
       "      <th></th>\n",
       "      <th>Review</th>\n",
       "      <th>preprocessed_review</th>\n",
       "    </tr>\n",
       "  </thead>\n",
       "  <tbody>\n",
       "    <tr>\n",
       "      <th>0</th>\n",
       "      <td>This was perhaps the best of Johannes Steinhof...</td>\n",
       "      <td>this was perhaps the best of johannes steinhof...</td>\n",
       "    </tr>\n",
       "    <tr>\n",
       "      <th>1</th>\n",
       "      <td>This very fascinating book is a story written ...</td>\n",
       "      <td>this very fascinating book is a story written ...</td>\n",
       "    </tr>\n",
       "    <tr>\n",
       "      <th>2</th>\n",
       "      <td>The four tales in this collection are beautifu...</td>\n",
       "      <td>the four tales in this collection are beautifu...</td>\n",
       "    </tr>\n",
       "    <tr>\n",
       "      <th>3</th>\n",
       "      <td>The book contained more profanity than I expec...</td>\n",
       "      <td>the book contained more profanity than i expec...</td>\n",
       "    </tr>\n",
       "    <tr>\n",
       "      <th>4</th>\n",
       "      <td>We have now entered a second time of deep conc...</td>\n",
       "      <td>we have now entered a second time of deep conc...</td>\n",
       "    </tr>\n",
       "  </tbody>\n",
       "</table>\n",
       "</div>"
      ],
      "text/plain": [
       "                                              Review  \\\n",
       "0  This was perhaps the best of Johannes Steinhof...   \n",
       "1  This very fascinating book is a story written ...   \n",
       "2  The four tales in this collection are beautifu...   \n",
       "3  The book contained more profanity than I expec...   \n",
       "4  We have now entered a second time of deep conc...   \n",
       "\n",
       "                                 preprocessed_review  \n",
       "0  this was perhaps the best of johannes steinhof...  \n",
       "1  this very fascinating book is a story written ...  \n",
       "2  the four tales in this collection are beautifu...  \n",
       "3  the book contained more profanity than i expec...  \n",
       "4  we have now entered a second time of deep conc...  "
      ]
     },
     "execution_count": 6,
     "metadata": {},
     "output_type": "execute_result"
    }
   ],
   "source": [
    "# print first rows to see preprocessed text\n",
    "df[['Review', 'preprocessed_review']].head()"
   ]
  },
  {
   "cell_type": "markdown",
   "metadata": {},
   "source": [
    "### Why check for class imbalance?\n",
    "By checking the class imbalance, we can observe that our dataset is fairly balanced. This will ensure the model will be capableto predict both classes effectively without a need to handle any imbalance."
   ]
  },
  {
   "cell_type": "code",
   "execution_count": 7,
   "metadata": {},
   "outputs": [
    {
     "data": {
      "text/plain": [
       "False    993\n",
       "True     980\n",
       "Name: Positive Review, dtype: int64"
      ]
     },
     "execution_count": 7,
     "metadata": {},
     "output_type": "execute_result"
    }
   ],
   "source": [
    "# check class imbalance\n",
    "df['Positive Review'].value_counts()"
   ]
  },
  {
   "cell_type": "markdown",
   "metadata": {},
   "source": [
    "### Feature Engineering\n",
    "Here, I am using TfidfVectorizer to convert the texts from our 'Review' column into vectors."
   ]
  },
  {
   "cell_type": "markdown",
   "metadata": {},
   "source": [
    "#### Remove stop words that might not hold any significant meaning to the text."
   ]
  },
  {
   "cell_type": "code",
   "execution_count": 8,
   "metadata": {},
   "outputs": [
    {
     "name": "stdout",
     "output_type": "stream",
     "text": [
      "Shape of TF-IDF matrix: (1973, 23385)\n"
     ]
    }
   ],
   "source": [
    "from sklearn.feature_extraction.text import TfidfVectorizer\n",
    "\n",
    "vectorizer = TfidfVectorizer(stop_words='english')\n",
    "X_vectorized = vectorizer.fit_transform(df['preprocessed_review'])\n",
    "print(f\"Shape of TF-IDF matrix: {X_vectorized.shape}\")"
   ]
  },
  {
   "cell_type": "markdown",
   "metadata": {},
   "source": [
    "## Part 4: Define Your Project Plan\n",
    "\n",
    "Now that you understand your data, in the markdown cell below, define your plan to implement the remaining phases of the machine learning life cycle (data preparation, modeling, evaluation) to solve your ML problem. Answer the following questions:\n",
    "\n",
    "* Do you have a new feature list? If so, what are the features that you chose to keep and remove after inspecting the data? \n",
    "* Explain different data preparation techniques that you will use to prepare your data for modeling.\n",
    "* What is your model (or models)?\n",
    "* Describe your plan to train your model, analyze its performance and then improve the model. That is, describe your model building, validation and selection plan to produce a model that generalizes well to new data. "
   ]
  },
  {
   "cell_type": "markdown",
   "metadata": {},
   "source": [
    "1. My new feature list is the preprocessed review text. It has been preprocessed and is ready for training. The original raw text has been removed from the features because it was not cleaned. The class label is our target variable.\n",
    "2. To prepare my data, I have converted the text to lowercase and removed punctuation as done in Part 3. I vectorized my text using TfidfVectorizer and removed common words that might not be significant during our training process. I also checked if there was any class imbalance handling necessary and observed that the dataset is quite balanced.\n",
    "3. I plan to use Logistic Regression, support vector machine, and random forest.\n",
    "4. My plan for training my model is to use GridSearch to find the best parameters. I will evaluate the accuracy, precision, recall, and confusion matrix."
   ]
  },
  {
   "cell_type": "markdown",
   "metadata": {},
   "source": [
    "## Part 5: Implement Your Project Plan\n",
    "\n",
    "<b>Task:</b> In the code cell below, import additional packages that you have used in this course that you will need to implement your project plan."
   ]
  },
  {
   "cell_type": "code",
   "execution_count": 9,
   "metadata": {},
   "outputs": [],
   "source": [
    "# import packages needed\n",
    "from sklearn.model_selection import train_test_split\n",
    "from sklearn.linear_model import LogisticRegression\n",
    "from sklearn.svm import SVC\n",
    "from sklearn.ensemble import RandomForestClassifier\n",
    "from sklearn.model_selection import GridSearchCV\n",
    "from sklearn.metrics import accuracy_score, classification_report, confusion_matrix, log_loss"
   ]
  },
  {
   "cell_type": "markdown",
   "metadata": {},
   "source": [
    "<b>Task:</b> Use the rest of this notebook to carry out your project plan. \n",
    "\n",
    "You will:\n",
    "\n",
    "1. Prepare your data for your model.\n",
    "2. Fit your model to the training data and evaluate your model.\n",
    "3. Improve your model's performance by performing model selection and/or feature selection techniques to find best model for your problem.\n",
    "\n",
    "Add code cells below and populate the notebook with commentary, code, analyses, results, and figures as you see fit. "
   ]
  },
  {
   "cell_type": "code",
   "execution_count": 10,
   "metadata": {},
   "outputs": [],
   "source": [
    "# split features and labels\n",
    "X = X_vectorized\n",
    "y = df['Positive Review']"
   ]
  },
  {
   "cell_type": "code",
   "execution_count": 11,
   "metadata": {},
   "outputs": [],
   "source": [
    "# split training and testing sets\n",
    "X_train, X_test, y_train, y_test = train_test_split(X, y, test_size=0.2, random_state=1234)"
   ]
  },
  {
   "cell_type": "code",
   "execution_count": 12,
   "metadata": {},
   "outputs": [],
   "source": [
    "# defining models\n",
    "models = {\n",
    "    'Logistic Regression': LogisticRegression(),\n",
    "    'Support Vector Machine': SVC(probability=True),\n",
    "    'Random Forest': RandomForestClassifier()\n",
    "}"
   ]
  },
  {
   "cell_type": "markdown",
   "metadata": {},
   "source": [
    "### Models of Choice:\n",
    "#### 1. Logisitic Regression\n",
    "This model is useful for binary classification problems such as this one. It will aid in the prediction of the probability that a review is positive or negative.\n",
    "#### 2. Support Vector Machine\n",
    "This model uses supervised learning to solve classification problems, which is useful for this dataset. It can capture the relationships between our features and classify with better accuracy.\n",
    "#### 3. Random Forest\n",
    "This model improves the accuracy and efficiency in sentiment analysis. It uses the results from multiple trees to extract meaningful texts from the dataset and be able to classify them."
   ]
  },
  {
   "cell_type": "code",
   "execution_count": 13,
   "metadata": {},
   "outputs": [],
   "source": [
    "# hyperparameters for GridSearch\n",
    "param_grids = {\n",
    "    'Logistic Regression': {'C': [0.1, 1]},\n",
    "    'Support Vector Machine': {'C': [0.1, 1], 'kernel': ['linear']},\n",
    "    'Random Forest': {'n_estimators': [50, 100], 'max_depth': [None, 10]}\n",
    "}"
   ]
  },
  {
   "cell_type": "markdown",
   "metadata": {},
   "source": [
    "### Confusion Matrix:\n",
    "By printing out a confusion matrix, it helps use visualize and measure the performance of the classification process. It shows the counts of true positives/negatives and false positives/negatives.\n",
    "\n",
    "#### Metrics:\n",
    "1. Precision: how many positive/negative predictions are actually positive/negative\n",
    "2. Recall: how many actual positives/negatives are correctly identified\n",
    "3. F1-score: balance between precision and recall\n",
    "\n",
    "### Grid Search:\n",
    "Each model is trained independently. GridSearchCV finds the best hyperparameters for each model and the performance metrics show which model performs the best for sentiment analysis.\n",
    "\n",
    "### Best model:\n",
    "The best model variable then determines which model is the best and then used for making predictions about the book reviews."
   ]
  },
  {
   "cell_type": "code",
   "execution_count": 14,
   "metadata": {},
   "outputs": [
    {
     "name": "stdout",
     "output_type": "stream",
     "text": [
      "Training Logistic Regression...\n",
      "\n",
      "Logistic Regression Performance:\n",
      "Best Parameters: {'C': 1}\n",
      "Accuracy: 0.8126582278481013\n",
      "Loss: 0.5470492750458936\n",
      "Classification Report:\n",
      "               precision    recall  f1-score   support\n",
      "\n",
      "       False       0.82      0.80      0.81       196\n",
      "        True       0.80      0.83      0.82       199\n",
      "\n",
      "    accuracy                           0.81       395\n",
      "   macro avg       0.81      0.81      0.81       395\n",
      "weighted avg       0.81      0.81      0.81       395\n",
      "\n",
      "Confusion Matrix:\n",
      " [[156  40]\n",
      " [ 34 165]]\n"
     ]
    },
    {
     "data": {
      "image/png": "[encoded data removed]",
      "text/plain": [
       "<Figure size 800x600 with 2 Axes>"
      ]
     },
     "metadata": {},
     "output_type": "display_data"
    },
    {
     "name": "stdout",
     "output_type": "stream",
     "text": [
      "Training Support Vector Machine...\n",
      "\n",
      "Support Vector Machine Performance:\n",
      "Best Parameters: {'C': 1, 'kernel': 'linear'}\n",
      "Accuracy: 0.8202531645569621\n",
      "Loss: 0.3839229691493813\n",
      "Classification Report:\n",
      "               precision    recall  f1-score   support\n",
      "\n",
      "       False       0.86      0.77      0.81       196\n",
      "        True       0.79      0.87      0.83       199\n",
      "\n",
      "    accuracy                           0.82       395\n",
      "   macro avg       0.82      0.82      0.82       395\n",
      "weighted avg       0.82      0.82      0.82       395\n",
      "\n",
      "Confusion Matrix:\n",
      " [[150  46]\n",
      " [ 25 174]]\n"
     ]
    },
    {
     "data": {
      "image/png": "[encoded data removed]",
      "text/plain": [
       "<Figure size 800x600 with 2 Axes>"
      ]
     },
     "metadata": {},
     "output_type": "display_data"
    },
    {
     "name": "stdout",
     "output_type": "stream",
     "text": [
      "Training Random Forest...\n",
      "\n",
      "Random Forest Performance:\n",
      "Best Parameters: {'max_depth': None, 'n_estimators': 100}\n",
      "Accuracy: 0.8\n",
      "Loss: 0.4893346210588657\n",
      "Classification Report:\n",
      "               precision    recall  f1-score   support\n",
      "\n",
      "       False       0.83      0.75      0.79       196\n",
      "        True       0.78      0.85      0.81       199\n",
      "\n",
      "    accuracy                           0.80       395\n",
      "   macro avg       0.80      0.80      0.80       395\n",
      "weighted avg       0.80      0.80      0.80       395\n",
      "\n",
      "Confusion Matrix:\n",
      " [[147  49]\n",
      " [ 30 169]]\n"
     ]
    },
    {
     "data": {
      "image/png": "[encoded data removed]",
      "text/plain": [
       "<Figure size 800x600 with 2 Axes>"
      ]
     },
     "metadata": {},
     "output_type": "display_data"
    }
   ],
   "source": [
    "for model_name, model in models.items():\n",
    "    print(f\"Training {model_name}...\")\n",
    "    grid_search = GridSearchCV(model, param_grids[model_name], cv=5, scoring='accuracy')\n",
    "    grid_search.fit(X_train, y_train)\n",
    "\n",
    "    # find best model\n",
    "    best_model = grid_search.best_estimator_\n",
    "    \n",
    "    # predict using test set\n",
    "    y_pred = best_model.predict(X_test)\n",
    "    probability_predictions = best_model.predict_proba(X_test)[:, 1]\n",
    "    \n",
    "    # evaluate the model\n",
    "\n",
    "    accuracy = accuracy_score(y_test, y_pred)\n",
    "    loss = log_loss(y_test, probability_predictions)\n",
    "    \n",
    "    print(f\"\\n{model_name} Performance:\")\n",
    "    print(\"Best Parameters:\", grid_search.best_params_)\n",
    "    print(\"Accuracy:\", accuracy)\n",
    "    print(\"Loss:\", loss)\n",
    "    print(\"Classification Report:\\n\", classification_report(y_test, y_pred))\n",
    "    print(\"Confusion Matrix:\\n\", confusion_matrix(y_test, y_pred))\n",
    "\n",
    "    # confusion matrix\n",
    "    cm = confusion_matrix(y_test, y_pred)\n",
    "    plt.figure(figsize=(8, 6))\n",
    "    sns.heatmap(cm, annot=True, fmt='d', cmap='Blues', xticklabels=['Negative', 'Positive'], yticklabels=['Negative', 'Positive'])\n",
    "    plt.xlabel('Predicted')\n",
    "    plt.ylabel('Actual')\n",
    "    plt.title(f'{model_name} Confusion Matrix')\n",
    "    plt.show()"
   ]
  },
  {
   "cell_type": "code",
   "execution_count": 15,
   "metadata": {},
   "outputs": [
    {
     "name": "stdout",
     "output_type": "stream",
     "text": [
      "Review #1:\n",
      "\n",
      "This was perhaps the best of Johannes Steinhoff's books, since it does not  deal with his own stellar yet tragic WW II and post war career. The  insights of the average person living in Germany are of great importance to  both social and military historians alike. Steinhoff offered this  collective testament as a warning to all of us regarding war and the rise  of a dictator. As Johannes said in an interview, &quot;It is always the  civilians who suffer the most, yet are remembered the least.&quot\n",
      "\n",
      "\n",
      "Probability of Positive Review: 0.77\n",
      "Prediction: Is this a good review? True\n",
      "Actual: Is this a good review? True\n",
      "\n",
      "Review #2:\n",
      "\n",
      "This very fascinating book is a story written in the form of numerous letters and personal diary entries made by the principle character of the book.  It chronicals the life of a young Scottish woman forced to live first in China then Japan.  Well written and historically accurate, it's obvious the author is intimately familiar with the the culture, customs, history and life style of Japan.  This makes the book that much more interesting and fascinating for those who enjoy realism and demand accuracy in a story.  For all who've ever lived in Japan, it's a believable tale that literally makes you feel you've stepped back in a time machine to witness the birth of modern Japan.  For those who haven't lived in Japan, believe that the author has done his homework and is not simply just creating a fictional setting in his mind.  Because of this, he's able to focus on his character versus scene/setting development and thus creates a living breathing person in your mind.  The timespan covers over 40 years as the story weaves through her trials and tribulations, and shows how her fortitude and strength serve her through tumultuous events in her life.  A gripping tale that draws on your emotions and has you constantly rooting for her.  When the last page is read it leaves you wishing the story would continue, but even good books must end.  Be prepared to sit a spell.  Once you start reading you'll find it hard to put down\n",
      "\n",
      "\n",
      "Probability of Positive Review: 0.84\n",
      "Prediction: Is this a good review? True\n",
      "Actual: Is this a good review? True\n",
      "\n",
      "Review #3:\n",
      "\n",
      "The four tales in this collection are beautifully composed; they are art, not just stories.  Each story is deep in its unique complexities.  Each one has plots and subplots and paints an impeccable image of the story upon the reader's mind.  And when I look back upon the book as a whole, upon the adventurous stories, the excitement and emotion that the author presents so exquisitely, I can't help but be extremely impressed.\n",
      "\n",
      "\n",
      "Probability of Positive Review: 0.87\n",
      "Prediction: Is this a good review? True\n",
      "Actual: Is this a good review? True\n",
      "\n",
      "Review #4:\n",
      "\n",
      "The book contained more profanity than I expected to read in a book by Rita Rudner.  I had expected more humor from a comedienne.  Too bad, because I really like her humor\n",
      "\n",
      "\n",
      "Probability of Positive Review: 0.11\n",
      "Prediction: Is this a good review? False\n",
      "Actual: Is this a good review? False\n",
      "\n",
      "Review #5:\n",
      "\n",
      "We have now entered a second time of deep concern for the science, math, and technological education for everyone. The first one occurred after the Sputnik fiasco, when the Russians beat us in the race to reach space. The  concern now has risen due to what science groups such as the American  Association for the Advancement of Science, and educators saw in comparison  of assessments made of students in the U.S. and those in other developed  countries, such as Japan. The answer to this concern was for the AAAS along  with other groups to put out a guideline as to what constitutes scientific  literacy, and what the public in the U.S. should at least know to be  scientifically literate. As usual, though the AAAS addressed the fact that  certain groups in the U.S. were not being 'included' in the pursuit of  science literacy, such as women and racial minorities, in this their first  book they skipped over those of us with disabilities. Since this is a major  concern of mine and the area in which I do research, I was appalled to see  they neglected 'us' once again, especially as the AAAS has a separate  department dealing with the Disabled/Deaf.  In spite of this mistake, the  writing of this book has laid the groundwork for universities and colleges  as to what the teachers they train should know and be able to teach so that  our country can be more scientifically literate. With new information being  made available through newspapers and the Internet on a daily basis, it is  absolutely imperative that all adults regardless of race, gender, or  ability be able to glean the information they need from this outpouring of  information to make decisions requiring informed consent in health care,  decisions on employment (since health care is one of the top employers in  the U.S. today), and to teach their children. This book was the beginning,  but it isn't the end. More books have further elucidated what is required  for science literacy from both the AAAS and other science groups. This is  the place to start if you are an educator of any kind who wants their  students to become scientifically literate. Karen Sadler, Science  Education, University of Pittsburgh, klsst23@pitt.ed\n",
      "\n",
      "\n",
      "Probability of Positive Review: 0.81\n",
      "Prediction: Is this a good review? True\n",
      "Actual: Is this a good review? True\n",
      "\n",
      "Review #6:\n",
      "\n",
      "I don't know why it won the National Book Award.  This book is very slow, &amp; very boring.  Where is the action?  I forced myself to finish it\n",
      "\n",
      "\n",
      "Probability of Positive Review: 0.05\n",
      "Prediction: Is this a good review? False\n",
      "Actual: Is this a good review? False\n",
      "\n",
      "Review #7:\n",
      "\n",
      "The daughter of a prominent Boston doctor is dead, apparently from a botched abortion (which was illegal in the late 60's).  Dr. John Berry's friend, Art Lee, is in jail for the crime, which he says he didn't commit.  So, Dr. Berry sets out to prove his friend's innocence, and runs into cover-ups and lots of secrets.  But there are many doubts, such as was the girl really pregnant, and did Dr. Lee actually perform the surgery, and why is Dr. Berry so interested in finding the culprit?\n",
      "\n",
      "For Michael Crichton's first novel, it's not bad, but nowhere near as good as some later ones.  The plot is marginally interesting, but it was hard to keep characters straight and the dialog didn't sound very natural.  Dr. Berry (who just takes the whole work week off to investigate) talks more like a cheesy \"private eye\" than a doctor.  Also annoying was the use of footnotes and endnotes to explain various medical terms and concepts - nice to know but annoying to look up\n",
      "\n",
      "\n",
      "Probability of Positive Review: 0.13\n",
      "Prediction: Is this a good review? False\n",
      "Actual: Is this a good review? False\n",
      "\n",
      "Review #8:\n",
      "\n",
      "I was very disapointed in the book.Basicly the writer took bits and pieces from books written by others,twisted their words and put his own spin on it.It repeats itself over and over being so repetative I had to put it down.There are good books out there written by people who were there.I suggest you take a look at those.I read many good one's but this book wasnt in that catagory\n",
      "\n",
      "\n",
      "Probability of Positive Review: 0.25\n",
      "Prediction: Is this a good review? False\n",
      "Actual: Is this a good review? False\n",
      "\n",
      "Review #9:\n",
      "\n",
      "I think in retrospect I wasted my time on this one. It had a great premise that indulged me into buying this book but who knew dark days lied ahead of me. As I read through the last chapters trying to uncover the mystery, I kept on hoping that there would be something more to it, something more enigmatic, a brilliant twist but I was left with despair. My major problem with this novel was there were not enough, in fact hardly anybody whom the reader could suspect as the possible killer. And bringing out a totally new character at the very end to describe the proceedings only shows a lack of respect to the mind of the reader who had been guessing until now about various other possibilities. I will never touch this author's book again! A mantra for reading thrillers is in believing the hype and read the best of the best-Dan Brown\n",
      "\n",
      "\n",
      "Probability of Positive Review: 0.19\n",
      "Prediction: Is this a good review? False\n",
      "Actual: Is this a good review? False\n",
      "\n",
      "Review #10:\n",
      "\n",
      "I have a hard time understanding what it is that I dislike about the novel. I dislike it almost as much as the movie.\n",
      "I have been a loyal follower of Smiley and some more after that. Once the Cold War was over, JlC had to look for a new realm. I tried to follow him, but gave up with the Kaukasian troubles, forgot the name of the book.\n",
      "Maybe it is this: JlC's trade mark, his USP, is the evilness of the other side. With the KGB & Co., that worked perfectly. His readers were willing to stay with him and believe him.\n",
      "Now he is transferring the KGB style to all sorts of other badies. I think it does not work any more.\n",
      "It is not that I trust the pharmaceutical companies enough to not be like here insinuated. I do not.\n",
      "What I do not like, I guess, is the artificial mood of intellectual suffering from the evilness of all kind of conspiracies. Tess in this story seems to be the normal do-gooder who falls foul with the baddies. That is more ok in the book than in the movie. (There, for my eyes, Rachel Weisz does herself discredit.)\n",
      "What is absolutely not ok is the surrender of command by the narrator mid way. JlC gives up on trying to keep a believable storyline and declines into darkest conspiracy allegations\n",
      "\n",
      "\n",
      "Probability of Positive Review: 0.13\n",
      "Prediction: Is this a good review? False\n",
      "Actual: Is this a good review? False\n",
      "\n"
     ]
    }
   ],
   "source": [
    "for i in range(10):\n",
    "    review = df['Review'].iloc[i]\n",
    "    model = grid_search.best_estimator_\n",
    "    probability = model.predict_proba(X_vectorized[i])[0, 1]\n",
    "    goodReview = True if probability >= 0.5 else False\n",
    "    print(f'Review #{i+1}:\\n')\n",
    "    print(f'{review}\\n')\n",
    "    print(f'Probability of Positive Review: {probability:.2f}')\n",
    "    print(f'Prediction: Is this a good review? {goodReview}')\n",
    "    print(f'Actual: Is this a good review? {y.iloc[i]}\\n')"
   ]
  },
  {
   "cell_type": "markdown",
   "metadata": {},
   "source": [
    "### Conclusion:\n",
    "Above, I have printed out the first 10 book reviews along with the probability of it being a positive review, its prediction, and actual. Analyzing the output, we can see that the sentiment analysis model does a reasonable job at classifying the book reviews provided in the dataset. The overall accuracy of the model is around 80%, which indicates that it has strong performance with classifying the reviews. "
   ]
  }
 ],
 "metadata": {
  "kernelspec": {
   "display_name": "Python 3 (ipykernel)",
   "language": "python",
   "name": "python3"
  },
  "language_info": {
   "codemirror_mode": {
    "name": "ipython",
    "version": 3
   },
   "file_extension": ".py",
   "mimetype": "text/x-python",
   "name": "python",
   "nbconvert_exporter": "python",
   "pygments_lexer": "ipython3",
   "version": "3.9.19"
  },
  "toc": {
   "base_numbering": 1,
   "nav_menu": {},
   "number_sections": false,
   "sideBar": true,
   "skip_h1_title": false,
   "title_cell": "Table of Contents",
   "title_sidebar": "Contents",
   "toc_cell": false,
   "toc_position": {},
   "toc_section_display": true,
   "toc_window_display": false
  },
  "varInspector": {
   "cols": {
    "lenName": 16,
    "lenType": 16,
    "lenVar": 40
   },
   "kernels_config": {
    "python": {
     "delete_cmd_postfix": "",
     "delete_cmd_prefix": "del ",
     "library": "var_list.py",
     "varRefreshCmd": "print(var_dic_list())"
    },
    "r": {
     "delete_cmd_postfix": ") ",
     "delete_cmd_prefix": "rm(",
     "library": "var_list.r",
     "varRefreshCmd": "cat(var_dic_list()) "
    }
   },
   "types_to_exclude": [
    "module",
    "function",
    "builtin_function_or_method",
    "instance",
    "_Feature"
   ],
   "window_display": false
  }
 },
 "nbformat": 4,
 "nbformat_minor": 4
}
